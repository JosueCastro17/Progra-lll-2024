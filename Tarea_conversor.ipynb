{
  "nbformat": 4,
  "nbformat_minor": 0,
  "metadata": {
    "colab": {
      "provenance": [],
      "authorship_tag": "ABX9TyPfq26pAD8S4yt/ZZgmdgSy",
      "include_colab_link": true
    },
    "kernelspec": {
      "name": "python3",
      "display_name": "Python 3"
    },
    "language_info": {
      "name": "python"
    }
  },
  "cells": [
    {
      "cell_type": "markdown",
      "metadata": {
        "id": "view-in-github",
        "colab_type": "text"
      },
      "source": [
        "<a href=\"https://colab.research.google.com/github/JosueCastro17/Progra-lll-2024/blob/main/Tarea_conversor.ipynb\" target=\"_parent\"><img src=\"https://colab.research.google.com/assets/colab-badge.svg\" alt=\"Open In Colab\"/></a>"
      ]
    },
    {
      "cell_type": "code",
      "execution_count": 6,
      "metadata": {
        "colab": {
          "base_uri": "https://localhost:8080/"
        },
        "id": "zO2K9dsyGyw_",
        "outputId": "5ae125d2-a382-4cdc-b67f-04d3009a052f"
      },
      "outputs": [
        {
          "output_type": "stream",
          "name": "stdout",
          "text": [
            "\n",
            "Seleccione la conversión que desea realizar:\n",
            "1. Convertir Fahrenheit a Celsius\n",
            "2. Convertir Celsius a Kelvin\n",
            "3. Convertir Fahrenheit a Kelvin\n",
            "4. Salir\n",
            "Ingrese el número de la opción deseada: 4\n",
            "Saliendo del programa. ¡Hasta la proximaa xd!\n"
          ]
        }
      ],
      "source": [
        "def fahrenheit_a_celsius(fahrenheit):\n",
        "    return (fahrenheit - 32) * 5.0 / 9.0\n",
        "\n",
        "def celsius_a_kelvin(celsius):\n",
        "    return celsius + 273.15\n",
        "\n",
        "def fahrenheit_a_kelvin(fahrenheit):\n",
        "    celsius = fahrenheit_a_celsius(fahrenheit)\n",
        "    return celsius_a_kelvin(celsius)\n",
        "\n",
        "def menu():\n",
        "    print(\"\\nSeleccione la conversión que desea realizar:\")\n",
        "    print(\"1. Convertir Fahrenheit a Celsius\")\n",
        "    print(\"2. Convertir Celsius a Kelvin\")\n",
        "    print(\"3. Convertir Fahrenheit a Kelvin\")\n",
        "    print(\"4. Salir\")\n",
        "\n",
        "while True:\n",
        "    menu()\n",
        "    opcion = input(\"Ingrese el número de la opción deseada: \")\n",
        "\n",
        "    if opcion == '1':\n",
        "        f_temp = float(input(\"Ingrese la temperatura en Fahrenheit: \"))\n",
        "        print(f\"{f_temp} °F = {fahrenheit_a_celsius(f_temp):.2f} °C\")\n",
        "    elif opcion == '2':\n",
        "        c_temp = float(input(\"Ingrese la temperatura en Celsius: \"))\n",
        "        print(f\"{c_temp} °C = {celsius_a_kelvin(c_temp):.2f} K\")\n",
        "    elif opcion == '3':\n",
        "        f_temp = float(input(\"Ingrese la temperatura en Fahrenheit: \"))\n",
        "        print(f\"{f_temp} °F = {fahrenheit_a_kelvin(f_temp):.2f} K\")\n",
        "    elif opcion == '4':\n",
        "        print(\"Saliendo del programa. ¡Hasta la proximaa xd!\")\n",
        "        break\n",
        "    else:\n",
        "        print(\"Opción no válida, por favor intente nuevamente.\")\n"
      ]
    }
  ]
}