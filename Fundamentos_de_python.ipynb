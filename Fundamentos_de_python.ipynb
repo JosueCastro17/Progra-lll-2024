{
  "nbformat": 4,
  "nbformat_minor": 0,
  "metadata": {
    "colab": {
      "provenance": [],
      "authorship_tag": "ABX9TyMebgIbs+tgluWhv3d/CEdn",
      "include_colab_link": true
    },
    "kernelspec": {
      "name": "python3",
      "display_name": "Python 3"
    },
    "language_info": {
      "name": "python"
    }
  },
  "cells": [
    {
      "cell_type": "markdown",
      "metadata": {
        "id": "view-in-github",
        "colab_type": "text"
      },
      "source": [
        "<a href=\"https://colab.research.google.com/github/JosueCastro17/Progra-lll-2024/blob/main/Fundamentos_de_python.ipynb\" target=\"_parent\"><img src=\"https://colab.research.google.com/assets/colab-badge.svg\" alt=\"Open In Colab\"/></a>"
      ]
    },
    {
      "cell_type": "code",
      "execution_count": null,
      "metadata": {
        "colab": {
          "base_uri": "https://localhost:8080/"
        },
        "id": "0A0aO-LS4bqo",
        "outputId": "47c81b84-b8d1-4b6f-efeb-0979de74ace5"
      },
      "outputs": [
        {
          "output_type": "stream",
          "name": "stdout",
          "text": [
            "Hola Mundo\n"
          ]
        }
      ],
      "source": [
        "print (\"Hola Mundo\")"
      ]
    },
    {
      "cell_type": "code",
      "source": [
        "nombre = \" Juan\"\n",
        "\n",
        "print (\"Hola\", nombre, \" inicial : \", nombre )"
      ],
      "metadata": {
        "colab": {
          "base_uri": "https://localhost:8080/"
        },
        "id": "PFwKAw4U8Tmw",
        "outputId": "fe9fd6ba-8780-49eb-8b99-711aaa06740e"
      },
      "execution_count": null,
      "outputs": [
        {
          "output_type": "stream",
          "name": "stdout",
          "text": [
            "Hola  Juan\n"
          ]
        }
      ]
    },
    {
      "cell_type": "code",
      "source": [
        "num1 = 5\n",
        "num2 = 9.5\n",
        "\n",
        "resp = num1 + num2\n",
        "\n",
        "print (\"la suma es : \", resp)"
      ],
      "metadata": {
        "colab": {
          "base_uri": "https://localhost:8080/"
        },
        "id": "MOWShguc98nA",
        "outputId": "a557dd9d-31a7-492d-a2a8-a04b74d99bb8"
      },
      "execution_count": null,
      "outputs": [
        {
          "output_type": "stream",
          "name": "stdout",
          "text": [
            "la suma es :  14.5\n"
          ]
        }
      ]
    },
    {
      "cell_type": "code",
      "source": [
        "print (\"num1\")\n",
        "num1 = int(input())\n",
        "\n",
        "print (\"num2\")\n",
        "num2 = int(input())\n",
        "\n",
        "resp = num1 + num2\n",
        "print (\"la suma es : \", resp)"
      ],
      "metadata": {
        "colab": {
          "base_uri": "https://localhost:8080/"
        },
        "id": "AiBoFkYKAYWM",
        "outputId": "c0858282-e3f6-416c-9ac8-b378445fb6d1"
      },
      "execution_count": 9,
      "outputs": [
        {
          "output_type": "stream",
          "name": "stdout",
          "text": [
            "num1\n",
            "2\n",
            "num2\n",
            "3\n",
            "la suma es :  5\n"
          ]
        }
      ]
    },
    {
      "cell_type": "code",
      "source": [
        "nombre = \"Juancho\"\n",
        "\n",
        "print (nombre[0:4], nombre[:4], nombre[-5], nombre[0:len(nombre)])\n",
        "\n",
        "estado = False\n",
        "\n",
        "if estado:\n",
        "    print (\"verdadero\")\n",
        "else:\n",
        "    print (\"falso\")\n",
        "\n",
        "print (type(nombre), type(num1), type(num2), type(estado))\n"
      ],
      "metadata": {
        "colab": {
          "base_uri": "https://localhost:8080/"
        },
        "id": "8rKzKcVnCJWw",
        "outputId": "a4b68ae1-2996-4caa-cb99-b245b76caefb"
      },
      "execution_count": 20,
      "outputs": [
        {
          "output_type": "stream",
          "name": "stdout",
          "text": [
            "Juan Juan a Juancho\n",
            "falso\n",
            "<class 'str'> <class 'int'> <class 'int'> <class 'bool'>\n"
          ]
        }
      ]
    },
    {
      "cell_type": "code",
      "source": [
        "num1 = int(input(\"Ingrese un numero: \"))\n",
        "if num1%2 == 0:\n",
        "    print (\"numero par\")\n",
        "else:\n",
        "    print (\"numero impar\")"
      ],
      "metadata": {
        "colab": {
          "base_uri": "https://localhost:8080/"
        },
        "id": "Yu96tWCmFJdO",
        "outputId": "401466dc-d7bb-45c5-ffa1-615cda9fd802"
      },
      "execution_count": 25,
      "outputs": [
        {
          "output_type": "stream",
          "name": "stdout",
          "text": [
            "Ingrese un numero: 2\n",
            "numero par\n"
          ]
        }
      ]
    }
  ]
}